{
 "cells": [
  {
   "cell_type": "code",
   "execution_count": 1,
   "metadata": {},
   "outputs": [],
   "source": [
    "from sklearn.model_selection import train_test_split\n",
    "from sentence_transformers import InputExample\n",
    "\n",
    "import pandas as pd\n",
    "import pickle"
   ]
  },
  {
   "cell_type": "code",
   "execution_count": 16,
   "metadata": {},
   "outputs": [],
   "source": [
    "reports_file_path = 'data/br/eclipse/eclipse.csv'\n",
    "relations_file_path = 'data/br/eclipse/eclipse_pairs.csv'\n",
    "\n",
    "reports_eclipse = pd.read_csv(reports_file_path, index_col='bug_id')\n",
    "relations_eclipse = pd.read_csv(relations_file_path, index_col='issue_id')"
   ]
  },
  {
   "cell_type": "code",
   "execution_count": 3,
   "metadata": {},
   "outputs": [],
   "source": [
    "reports_file_path = 'data/br/openoffice/openoffice.csv'\n",
    "relations_file_path = 'data/br/openoffice/openoffice_pairs.csv'\n",
    "\n",
    "reports_openoffice = pd.read_csv(reports_file_path, index_col='bug_id')\n",
    "relations_openoffice = pd.read_csv(relations_file_path, index_col='issue_id')"
   ]
  },
  {
   "cell_type": "code",
   "execution_count": 8,
   "metadata": {},
   "outputs": [],
   "source": [
    "reports_file_path = 'data/br/firefox/firefox.csv'\n",
    "relations_file_path = 'data/br/firefox/firefox_pairs.csv'\n",
    "\n",
    "reports_firefox = pd.read_csv(reports_file_path, index_col='bug_id')\n",
    "relations_firefox = pd.read_csv(relations_file_path, index_col='issue_id')"
   ]
  },
  {
   "cell_type": "code",
   "execution_count": 5,
   "metadata": {},
   "outputs": [],
   "source": [
    "reports_file_path = './data/br/netbeans/netbeans.csv'\n",
    "relations_file_path = 'data/br/netbeans/netbeans_pairs - Copia.csv'\n",
    "\n",
    "reports_netbeans = pd.read_csv(reports_file_path, index_col='bug_id')\n",
    "relations_netbeans = pd.read_csv(relations_file_path, index_col='issue_id')"
   ]
  },
  {
   "cell_type": "code",
   "execution_count": 6,
   "metadata": {},
   "outputs": [],
   "source": [
    "datasets = {}"
   ]
  },
  {
   "cell_type": "code",
   "execution_count": 7,
   "metadata": {},
   "outputs": [],
   "source": [
    "datasets['eclipse'] = {\n",
    "    'reports': reports_eclipse,\n",
    "    'relations': relations_eclipse\n",
    "}\n",
    "\n",
    "datasets['openoffice'] = {\n",
    "    'reports': reports_openoffice,\n",
    "    'relations': relations_openoffice\n",
    "}\n",
    "\n",
    "datasets['firefox'] = {\n",
    "    'reports': reports_firefox,\n",
    "    'relations': relations_firefox\n",
    "}\n",
    "\n",
    "datasets['netbeans'] = {\n",
    "    'reports': reports_netbeans,\n",
    "    'relations': relations_netbeans\n",
    "}"
   ]
  },
  {
   "cell_type": "code",
   "execution_count": 8,
   "metadata": {},
   "outputs": [],
   "source": [
    "def generate_triplets(reports, relations):\n",
    "    \n",
    "    train_examples = []\n",
    "    for index, value in reports.iterrows():\n",
    "        if index in relations.index:\n",
    "            duplicates_id = []\n",
    "            try:\n",
    "                duplicates_id = [int(id) for id in relations.loc[index].values[0].split(';')]\n",
    "            except:\n",
    "                duplicates_id = []\n",
    "\n",
    "            for id in duplicates_id:\n",
    "                if id in reports.index:\n",
    "                    \n",
    "                    positive = reports.loc[id]\n",
    "                    negative = reports.sample(n=1).iloc[0]\n",
    "                    while (negative.name in duplicates_id) and not isinstance(negative['description'], str):\n",
    "                        negative = reports.sample(n=1).iloc[0]\n",
    "                        print(negative)\n",
    "\n",
    "                    if isinstance(value['description'], str) and isinstance(positive['description'], str):\n",
    "                        train_examples.append(\n",
    "                            InputExample(texts=[\n",
    "                                value['description'],\n",
    "                                positive['description'],\n",
    "                                negative['description']\n",
    "                            ])\n",
    "                        )\n",
    "\n",
    "                    else:\n",
    "                        print('save')\n",
    "                        \n",
    "    return train_examples"
   ]
  },
  {
   "cell_type": "code",
   "execution_count": 9,
   "metadata": {},
   "outputs": [
    {
     "name": "stdout",
     "output_type": "stream",
     "text": [
      "193599\n",
      "eclipse 20915\n",
      "54402\n",
      "openoffice 14453\n",
      "92651\n",
      "save\n",
      "save\n",
      "save\n",
      "save\n",
      "save\n",
      "save\n",
      "save\n",
      "save\n",
      "save\n",
      "save\n",
      "save\n",
      "save\n",
      "save\n",
      "save\n",
      "save\n",
      "save\n",
      "save\n",
      "save\n",
      "save\n",
      "save\n",
      "save\n",
      "save\n",
      "save\n",
      "save\n",
      "save\n",
      "save\n",
      "save\n",
      "save\n",
      "save\n",
      "save\n",
      "firefox 74436\n",
      "118960\n",
      "netbeans 22777\n"
     ]
    }
   ],
   "source": [
    "for key, value in datasets.items():\n",
    "\n",
    "    # Split data into train, validation and test sets\n",
    "    reports_temp, reports_test = train_test_split(value['reports'], test_size=0.3, random_state=83)\n",
    "    reports_train, reports_val = train_test_split(reports_temp, test_size=0.3, random_state=83)\n",
    "\n",
    "    print(len(value['relations']))\n",
    "    # Save each split into a csv file\n",
    "    reports_train.to_csv(f'data/splits/{key}/{key}_train.csv')\n",
    "    reports_val.to_csv(f'data/splits/{key}/{key}_val.csv')\n",
    "    reports_test.to_csv(f'data/splits/{key}/{key}_test.csv')\n",
    "\n",
    "    # Generate triplets for the train dataset\n",
    "    triplets = generate_triplets(reports_train, value['relations'])\n",
    "    print(key, len(triplets))\n",
    "\n",
    "    # Save triplets into pickle file\n",
    "    triplets_file_path = f'data/splits/{key}/{key}_triplets.pkl'\n",
    "    with open(triplets_file_path, \"wb\") as f:\n",
    "        pickle.dump(triplets, f)\n",
    "\n",
    "    "
   ]
  },
  {
   "cell_type": "code",
   "execution_count": 12,
   "metadata": {},
   "outputs": [
    {
     "name": "stdout",
     "output_type": "stream",
     "text": [
      "eclipse 20915\n",
      "openoffice 14453\n",
      "firefox 74436\n",
      "netbeans 22777\n"
     ]
    }
   ],
   "source": [
    "train_triplets = {}\n",
    "\n",
    "for key, value in datasets.items():\n",
    "    \n",
    "    triplets_file_path = f'data/splits/{key}/{key}_triplets.pkl'\n",
    "\n",
    "    with open(triplets_file_path, \"rb\") as f:\n",
    "        loaded_input_examples = pickle.load(f)\n",
    "\n",
    "    train_triplets[key] = loaded_input_examples\n",
    "\n",
    "    print(key, len(loaded_input_examples))"
   ]
  },
  {
   "cell_type": "code",
   "execution_count": 14,
   "metadata": {},
   "outputs": [
    {
     "data": {
      "text/plain": [
       "sentence_transformers.readers.InputExample.InputExample"
      ]
     },
     "execution_count": 14,
     "metadata": {},
     "output_type": "execute_result"
    }
   ],
   "source": [
    "type(train_triplets['firefox'][0])"
   ]
  },
  {
   "cell_type": "code",
   "execution_count": 16,
   "metadata": {},
   "outputs": [
    {
     "data": {
      "text/plain": [
       "132581"
      ]
     },
     "execution_count": 16,
     "metadata": {},
     "output_type": "execute_result"
    }
   ],
   "source": [
    "all_triplets = []\n",
    "\n",
    "for list_of_triplets in train_triplets.values():\n",
    "    all_triplets.extend(list_of_triplets)\n",
    "\n",
    "len(all_triplets)"
   ]
  },
  {
   "cell_type": "code",
   "execution_count": 18,
   "metadata": {},
   "outputs": [],
   "source": [
    "reports_train_file_path = 'data/splits/eclipse/eclipse_test.csv'\n",
    "\n",
    "\n",
    "reports_eclipse_test = pd.read_csv(reports_train_file_path, index_col='bug_id')"
   ]
  },
  {
   "cell_type": "code",
   "execution_count": 19,
   "metadata": {},
   "outputs": [
    {
     "data": {
      "text/plain": [
       "108302"
      ]
     },
     "execution_count": 19,
     "metadata": {},
     "output_type": "execute_result"
    }
   ],
   "source": [
    "len(reports_eclipse_test)"
   ]
  },
  {
   "cell_type": "code",
   "execution_count": 23,
   "metadata": {},
   "outputs": [],
   "source": [
    "def count_duplictes(reports, relations):\n",
    "\n",
    "    amount_of_duplicates = {}\n",
    "    for index, value in reports.iterrows():\n",
    "        duplicates_id = []\n",
    "        if index in relations.index:\n",
    "            try:\n",
    "                duplicates_id = [int(id) for id in relations.loc[index].values[0].split(';')]\n",
    "            except:\n",
    "                duplicates_id = []\n",
    "\n",
    "        \n",
    "        if len(duplicates_id) > 0:\n",
    "            amount_of_duplicates[index] = 0\n",
    "\n",
    "            for id in duplicates_id:\n",
    "                if id in reports.index:\n",
    "                    positive = reports.loc[id]\n",
    "                    if isinstance(value['description'], str) and isinstance(positive['description'], str):\n",
    "                        amount_of_duplicates[index] +=1\n",
    "                        \n",
    "    return amount_of_duplicates"
   ]
  },
  {
   "cell_type": "code",
   "execution_count": 27,
   "metadata": {},
   "outputs": [],
   "source": [
    "test = count_duplictes(reports_eclipse_test, relations_eclipse)"
   ]
  },
  {
   "cell_type": "code",
   "execution_count": 28,
   "metadata": {},
   "outputs": [
    {
     "data": {
      "text/plain": [
       "11892"
      ]
     },
     "execution_count": 28,
     "metadata": {},
     "output_type": "execute_result"
    }
   ],
   "source": [
    "len(test)"
   ]
  },
  {
   "cell_type": "code",
   "execution_count": 29,
   "metadata": {},
   "outputs": [
    {
     "data": {
      "text/plain": [
       "0.6732256979482004"
      ]
     },
     "execution_count": 29,
     "metadata": {},
     "output_type": "execute_result"
    }
   ],
   "source": [
    "sum(test.values())/len(test)"
   ]
  },
  {
   "cell_type": "code",
   "execution_count": 30,
   "metadata": {},
   "outputs": [
    {
     "data": {
      "text/plain": [
       "108302"
      ]
     },
     "execution_count": 30,
     "metadata": {},
     "output_type": "execute_result"
    }
   ],
   "source": [
    "len(reports_eclipse_test)"
   ]
  },
  {
   "cell_type": "code",
   "execution_count": null,
   "metadata": {},
   "outputs": [],
   "source": []
  }
 ],
 "metadata": {
  "kernelspec": {
   "display_name": "Python 3",
   "language": "python",
   "name": "python3"
  },
  "language_info": {
   "codemirror_mode": {
    "name": "ipython",
    "version": 3
   },
   "file_extension": ".py",
   "mimetype": "text/x-python",
   "name": "python",
   "nbconvert_exporter": "python",
   "pygments_lexer": "ipython3",
   "version": "3.10.7"
  }
 },
 "nbformat": 4,
 "nbformat_minor": 2
}
