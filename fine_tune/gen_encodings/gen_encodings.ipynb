{
 "cells": [
  {
   "cell_type": "markdown",
   "metadata": {},
   "source": [
    "# Generate encodings from dataset"
   ]
  },
  {
   "cell_type": "markdown",
   "metadata": {},
   "source": [
    "#### Imports"
   ]
  },
  {
   "cell_type": "code",
   "execution_count": null,
   "metadata": {},
   "outputs": [],
   "source": [
    "from sentence_transformers import SentenceTransformer, util\n",
    "from huggingface_hub import notebook_login\n",
    "from torch import device, cuda, save, load\n",
    "import pandas as pd\n",
    "from tqdm import tqdm\n",
    "\n",
    "pd.set_option('display.max_colwidth', None)\n"
   ]
  },
  {
   "cell_type": "markdown",
   "metadata": {},
   "source": [
    "#### Log in to HuggingFace "
   ]
  },
  {
   "cell_type": "code",
   "execution_count": null,
   "metadata": {},
   "outputs": [],
   "source": [
    "notebook_login()"
   ]
  },
  {
   "cell_type": "markdown",
   "metadata": {},
   "source": [
    "#### Get the model from Huggingface\n"
   ]
  },
  {
   "cell_type": "code",
   "execution_count": 2,
   "metadata": {},
   "outputs": [],
   "source": [
    "organization = 'luiz-and-robert-thesis'\n",
    "model_name = 'all-mpnet-base-newtriplets-v2-lr-1e-8-m-1-e-3'\n",
    "model = SentenceTransformer(f'{organization}/{model_name}')"
   ]
  },
  {
   "cell_type": "markdown",
   "metadata": {},
   "source": [
    "#### Use Cuda to run on the GPU "
   ]
  },
  {
   "cell_type": "code",
   "execution_count": null,
   "metadata": {},
   "outputs": [],
   "source": [
    "device = device('cuda' if cuda.is_available() else 'cpu')\n",
    "device\n",
    "model.to(device)"
   ]
  },
  {
   "cell_type": "markdown",
   "metadata": {},
   "source": [
    "#### Get the dataset to encode"
   ]
  },
  {
   "cell_type": "code",
   "execution_count": 4,
   "metadata": {},
   "outputs": [],
   "source": [
    "dataset = 'hallsnas'\n",
    "split_path = f'./encoding_data/whole_datasets/{dataset}_dataset.xlsx'\n",
    "dataset_df = pd.read_excel(split_path, index_col='ID')"
   ]
  },
  {
   "cell_type": "code",
   "execution_count": null,
   "metadata": {},
   "outputs": [],
   "source": [
    "dataset_df.head()"
   ]
  },
  {
   "cell_type": "code",
   "execution_count": null,
   "metadata": {},
   "outputs": [],
   "source": [
    "print(len(dataset_df))"
   ]
  },
  {
   "cell_type": "code",
   "execution_count": null,
   "metadata": {},
   "outputs": [],
   "source": [
    "# To test that the datset was loaded correctly\n",
    "test_df = dataset_df[0:10]\n",
    "for index, row in test_df.iterrows():\n",
    "    print(index, row[0])"
   ]
  },
  {
   "cell_type": "markdown",
   "metadata": {},
   "source": [
    "#### Encode the dataset with **long** description only\n",
    "\n",
    "- Make sure to select the correct row index!\n"
   ]
  },
  {
   "cell_type": "code",
   "execution_count": 7,
   "metadata": {},
   "outputs": [],
   "source": [
    "def encode_long_desc():\n",
    "    encoded_desc = []\n",
    "    report_id_list = []\n",
    "    amount_of_none = 0\n",
    "    \n",
    "    # Iterate through the whole dataset\n",
    "    for index, row in tqdm(dataset_df.iterrows()):\n",
    "        try:\n",
    "            # Encode the description of each bug report\n",
    "            bug_desc = row[0]\n",
    "            encoded = model.encode(bug_desc)\n",
    "        except:\n",
    "            encoded = None\n",
    "            amount_of_none += 1\n",
    "        # Get the id of the bug report\n",
    "        report_id = index\n",
    "        # Add the encoded description and the id to their corresponding arrays\n",
    "        encoded_desc.append(encoded)\n",
    "        report_id_list.append(report_id)\n",
    "\n",
    "    # Create a new dataframe with the encoded description and the bug id as columns\n",
    "    dataset_encoded_long_desc_df = pd.DataFrame()\n",
    "    dataset_encoded_long_desc_df[\"encoded_desc\"] = encoded_desc\n",
    "    dataset_encoded_long_desc_df[\"bug_id\"] = report_id_list\n",
    "    print('Amount of none: ', amount_of_none)\n",
    "    return dataset_encoded_long_desc_df"
   ]
  },
  {
   "cell_type": "markdown",
   "metadata": {},
   "source": [
    "#### Encode dataset with **long** description and **short** description\n",
    "\n",
    "- Check row index!!!!"
   ]
  },
  {
   "cell_type": "code",
   "execution_count": 2,
   "metadata": {},
   "outputs": [],
   "source": [
    "def encode_all_descs():\n",
    "    encoded_both_descs = []\n",
    "    report_id_list_both = []\n",
    "    amount_of_none_both = 0\n",
    "\n",
    "    # Iterate over the whole dataset\n",
    "    for index, row in tqdm(dataset_df.iterrows()):\n",
    "\n",
    "        try:\n",
    "            # Encode the long and short description of each bug report\n",
    "            long_desc = row[5]\n",
    "            short_desc = row[10]\n",
    "          \n",
    "            both_descs_enc = model.encode(f'{short_desc} - {long_desc}')\n",
    "        except:\n",
    "            both_descs_enc = None\n",
    "            amount_of_none_both += 1\n",
    "\n",
    "        # Get the id of the bug report\n",
    "        report_id_both_descs = index\n",
    "        # Add the encoded descriptions and the id to their corresponding arrays\n",
    "        encoded_both_descs.append(both_descs_enc)\n",
    "        report_id_list_both.append(report_id_both_descs)\n",
    "\n",
    "    # Create a new dataframe with the encoded description and the bug id as columns\n",
    "    dataset_encoded_both_descs_df = pd.DataFrame()\n",
    "    dataset_encoded_both_descs_df[\"encoded_desc\"] = encoded_both_descs\n",
    "    dataset_encoded_both_descs_df[\"bug_id\"] = report_id_list_both\n",
    "    print('Amount of none: ', amount_of_none_both)\n",
    "    return dataset_encoded_both_descs_df\n"
   ]
  },
  {
   "cell_type": "markdown",
   "metadata": {},
   "source": [
    "#### Create encodings\n",
    "- choose right method"
   ]
  },
  {
   "cell_type": "code",
   "execution_count": null,
   "metadata": {},
   "outputs": [],
   "source": [
    "# Encode dataset\n",
    "dataset_encoded_df = encode_long_desc()\n"
   ]
  },
  {
   "cell_type": "code",
   "execution_count": null,
   "metadata": {},
   "outputs": [],
   "source": [
    "# Set the bug_id column as the label/index\n",
    "dataset_encoded_df = dataset_encoded_df.set_index('bug_id')\n",
    "dataset_encoded_df.head()"
   ]
  },
  {
   "cell_type": "markdown",
   "metadata": {},
   "source": [
    "#### Test the encodings"
   ]
  },
  {
   "cell_type": "code",
   "execution_count": null,
   "metadata": {},
   "outputs": [],
   "source": [
    "enc1 = dataset_encoded_df['encoded_desc'][5]\n",
    "enc2 = dataset_encoded_df['encoded_desc'][5]\n",
    "cossim = util.cos_sim(enc1, enc2)\n",
    "print(cossim)"
   ]
  },
  {
   "cell_type": "markdown",
   "metadata": {},
   "source": [
    "#### Convert encoded dataset to dict and save to pytorch file"
   ]
  },
  {
   "cell_type": "code",
   "execution_count": 11,
   "metadata": {},
   "outputs": [],
   "source": [
    "enc_dict = dataset_encoded_df.to_dict()"
   ]
  },
  {
   "cell_type": "code",
   "execution_count": 12,
   "metadata": {},
   "outputs": [],
   "source": [
    "parent_folder = f'./encoding_data/encoded_splits/hallsnas_dataset'\n",
    "# all-mpnet-lr5e-8-margin-1-ep-5-bs-32\n",
    "file_name = f'{model_name}_hallsnas_dataset_enc.pt'\n",
    "path = f'{parent_folder}/{file_name}'\n",
    "save(enc_dict, path)"
   ]
  },
  {
   "cell_type": "markdown",
   "metadata": {},
   "source": [
    "### Load the encoded dataset using pytorch"
   ]
  },
  {
   "cell_type": "code",
   "execution_count": null,
   "metadata": {},
   "outputs": [],
   "source": [
    "loaded_enc_dict = load('./encoding_data/encoded_splits/mpnet_m-5_ep-3/mpnet_firefox_test_enc_m-5_ep-3.pt')"
   ]
  },
  {
   "cell_type": "code",
   "execution_count": null,
   "metadata": {},
   "outputs": [],
   "source": [
    "load_enc1 = loaded_enc_dict['encoded_desc'][391030]\n",
    "load_enc2 = loaded_enc_dict['encoded_desc'][391030]\n",
    "cossim = util.cos_sim(load_enc1, load_enc2)\n",
    "print(cossim)"
   ]
  }
 ],
 "metadata": {
  "kernelspec": {
   "display_name": "cuda_env",
   "language": "python",
   "name": "python3"
  },
  "language_info": {
   "codemirror_mode": {
    "name": "ipython",
    "version": 3
   },
   "file_extension": ".py",
   "mimetype": "text/x-python",
   "name": "python",
   "nbconvert_exporter": "python",
   "pygments_lexer": "ipython3",
   "version": "3.10.6"
  }
 },
 "nbformat": 4,
 "nbformat_minor": 2
}
