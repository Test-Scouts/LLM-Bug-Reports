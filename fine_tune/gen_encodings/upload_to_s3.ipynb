{
 "cells": [
  {
   "cell_type": "code",
   "execution_count": 1,
   "metadata": {},
   "outputs": [
    {
     "data": {
      "text/plain": [
       "True"
      ]
     },
     "execution_count": 1,
     "metadata": {},
     "output_type": "execute_result"
    }
   ],
   "source": [
    "from dotenv import load_dotenv\n",
    "import os\n",
    "import boto3\n",
    "load_dotenv()"
   ]
  },
  {
   "cell_type": "code",
   "execution_count": 2,
   "metadata": {},
   "outputs": [],
   "source": [
    "access_key = os.getenv('ACCESS_KEY')\n",
    "secret_key = os.getenv('SECRET_KEY')"
   ]
  },
  {
   "cell_type": "code",
   "execution_count": 29,
   "metadata": {},
   "outputs": [],
   "source": [
    "parent_folder = './encoding_data/encoded_splits'\n",
    "model_name = 'mpnet-lr-1e-8-m-1-ep-3'\n",
    "file_name = 'mpnet_netbeans_val_enc-lr-1e-8-margin-1-epoch-3.pt'\n",
    "path = f'{parent_folder}/{model_name}/val_sets/{file_name}'\n",
    "#'thesis/encodings/fine-tuned-models/mpnet-lr-1e-8-m-1-ep-3/mpnet_openoffice_val_enc-lr-1e-8-margin-1-epoch-3.pt'"
   ]
  },
  {
   "cell_type": "code",
   "execution_count": 30,
   "metadata": {},
   "outputs": [
    {
     "data": {
      "text/plain": [
       "bytes"
      ]
     },
     "execution_count": 30,
     "metadata": {},
     "output_type": "execute_result"
    }
   ],
   "source": [
    "with open(path, 'rb') as f:\n",
    "    file_content = f.read()\n",
    "type(file_content)"
   ]
  },
  {
   "cell_type": "code",
   "execution_count": 31,
   "metadata": {},
   "outputs": [],
   "source": [
    "bucket_name = 'luiz-and-robert'\n",
    "s3_path = 'thesis/encodings/fine-tuned-models'\n",
    "# file_name = 'mpnet_openoffice_val_enc_v2-lr-1e-8-margin-1-epoch-1_boto3-TEST.pt'\n",
    "s3_client = boto3.client('s3', aws_access_key_id=access_key, aws_secret_access_key=secret_key)\n",
    "try:\n",
    "    response = s3_client.put_object(Body=file_content, Bucket=bucket_name, Key=f'{s3_path}/{model_name}/{file_name}')\n",
    "except:\n",
    "    print('nope')\n",
    "\n",
    "# f'{s3_path}/{model_name}/{file_name}'"
   ]
  },
  {
   "cell_type": "code",
   "execution_count": 21,
   "metadata": {},
   "outputs": [
    {
     "name": "stdout",
     "output_type": "stream",
     "text": [
      "thesis/encodings/fine-tuned-models/mpnet-lr-1e-8-m-1-ep-3/mpnet_firefox_val_enc-lr-1e-8-margin-1-epoch-3.pt\n"
     ]
    }
   ],
   "source": [
    "s3 = f'{s3_path}/{model_name}/{file_name}'\n",
    "print(s3)"
   ]
  },
  {
   "cell_type": "code",
   "execution_count": null,
   "metadata": {},
   "outputs": [],
   "source": []
  }
 ],
 "metadata": {
  "kernelspec": {
   "display_name": "Python 3",
   "language": "python",
   "name": "python3"
  },
  "language_info": {
   "codemirror_mode": {
    "name": "ipython",
    "version": 3
   },
   "file_extension": ".py",
   "mimetype": "text/x-python",
   "name": "python",
   "nbconvert_exporter": "python",
   "pygments_lexer": "ipython3",
   "version": "3.10.6"
  }
 },
 "nbformat": 4,
 "nbformat_minor": 2
}
