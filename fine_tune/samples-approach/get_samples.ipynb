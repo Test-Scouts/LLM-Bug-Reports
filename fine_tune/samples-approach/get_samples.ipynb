{
 "cells": [
  {
   "cell_type": "code",
   "execution_count": 1,
   "metadata": {},
   "outputs": [],
   "source": [
    "import pandas as pd\n",
    "from sentence_transformers import SentenceTransformer, util\n",
    "from torch import load, Tensor, save\n",
    "import random\n",
    "import pickle"
   ]
  },
  {
   "cell_type": "code",
   "execution_count": 2,
   "metadata": {},
   "outputs": [],
   "source": [
    "relations_file_path = '../data/br/firefox/firefox_pairs.csv'\n",
    "\n",
    "relations_openoffice = pd.read_csv(relations_file_path, index_col='issue_id')\n",
    "\n",
    "\n",
    "reports_val_file_path = '../data/splits/firefox/firefox_val.csv'\n",
    "reports_test_file_path = '../data/splits/firefox/firefox_test.csv'\n",
    "\n",
    "reports_openoffice_val = pd.read_csv(reports_val_file_path, index_col='bug_id')\n",
    "reports_openoffice_test = pd.read_csv(reports_test_file_path, index_col='bug_id')\n",
    "\n",
    "reports_openoffice_appended = pd.concat([reports_openoffice_val, reports_openoffice_test])"
   ]
  },
  {
   "cell_type": "code",
   "execution_count": 3,
   "metadata": {},
   "outputs": [
    {
     "name": "stdout",
     "output_type": "stream",
     "text": [
      "24321\n",
      "34745\n",
      "59066\n"
     ]
    }
   ],
   "source": [
    "print(len(reports_openoffice_val))\n",
    "print(len(reports_openoffice_test))\n",
    "print(len(reports_openoffice_appended))"
   ]
  },
  {
   "cell_type": "code",
   "execution_count": 4,
   "metadata": {},
   "outputs": [],
   "source": [
    "filtered_relations = relations_openoffice.loc[relations_openoffice.index.intersection(reports_openoffice_appended.index)]"
   ]
  },
  {
   "cell_type": "code",
   "execution_count": 5,
   "metadata": {},
   "outputs": [
    {
     "data": {
      "text/plain": [
       "92651"
      ]
     },
     "execution_count": 5,
     "metadata": {},
     "output_type": "execute_result"
    }
   ],
   "source": [
    "len(relations_openoffice)"
   ]
  },
  {
   "cell_type": "code",
   "execution_count": 6,
   "metadata": {},
   "outputs": [
    {
     "data": {
      "text/plain": [
       "47167"
      ]
     },
     "execution_count": 6,
     "metadata": {},
     "output_type": "execute_result"
    }
   ],
   "source": [
    "len(filtered_relations)"
   ]
  },
  {
   "cell_type": "code",
   "execution_count": 8,
   "metadata": {},
   "outputs": [
    {
     "data": {
      "text/html": [
       "<div>\n",
       "<style scoped>\n",
       "    .dataframe tbody tr th:only-of-type {\n",
       "        vertical-align: middle;\n",
       "    }\n",
       "\n",
       "    .dataframe tbody tr th {\n",
       "        vertical-align: top;\n",
       "    }\n",
       "\n",
       "    .dataframe thead th {\n",
       "        text-align: right;\n",
       "    }\n",
       "</style>\n",
       "<table border=\"1\" class=\"dataframe\">\n",
       "  <thead>\n",
       "    <tr style=\"text-align: right;\">\n",
       "      <th></th>\n",
       "      <th>duplicate</th>\n",
       "    </tr>\n",
       "  </thead>\n",
       "  <tbody>\n",
       "    <tr>\n",
       "      <th>10954</th>\n",
       "      <td>NaN</td>\n",
       "    </tr>\n",
       "    <tr>\n",
       "      <th>14871</th>\n",
       "      <td>243500;410103;505684;515027;528678</td>\n",
       "    </tr>\n",
       "    <tr>\n",
       "      <th>54746</th>\n",
       "      <td>NaN</td>\n",
       "    </tr>\n",
       "    <tr>\n",
       "      <th>70171</th>\n",
       "      <td>NaN</td>\n",
       "    </tr>\n",
       "    <tr>\n",
       "      <th>75119</th>\n",
       "      <td>NaN</td>\n",
       "    </tr>\n",
       "    <tr>\n",
       "      <th>83003</th>\n",
       "      <td>NaN</td>\n",
       "    </tr>\n",
       "    <tr>\n",
       "      <th>84106</th>\n",
       "      <td>NaN</td>\n",
       "    </tr>\n",
       "    <tr>\n",
       "      <th>91774</th>\n",
       "      <td>NaN</td>\n",
       "    </tr>\n",
       "    <tr>\n",
       "      <th>92073</th>\n",
       "      <td>NaN</td>\n",
       "    </tr>\n",
       "    <tr>\n",
       "      <th>93789</th>\n",
       "      <td>354686;394099</td>\n",
       "    </tr>\n",
       "    <tr>\n",
       "      <th>94514</th>\n",
       "      <td>412958</td>\n",
       "    </tr>\n",
       "    <tr>\n",
       "      <th>98682</th>\n",
       "      <td>269769;273198;276032;289262;314013;331267;3428...</td>\n",
       "    </tr>\n",
       "    <tr>\n",
       "      <th>104142</th>\n",
       "      <td>NaN</td>\n",
       "    </tr>\n",
       "    <tr>\n",
       "      <th>111656</th>\n",
       "      <td>NaN</td>\n",
       "    </tr>\n",
       "    <tr>\n",
       "      <th>134649</th>\n",
       "      <td>409810;425098;428592;456775;467820</td>\n",
       "    </tr>\n",
       "    <tr>\n",
       "      <th>135567</th>\n",
       "      <td>NaN</td>\n",
       "    </tr>\n",
       "    <tr>\n",
       "      <th>140108</th>\n",
       "      <td>NaN</td>\n",
       "    </tr>\n",
       "    <tr>\n",
       "      <th>145524</th>\n",
       "      <td>NaN</td>\n",
       "    </tr>\n",
       "    <tr>\n",
       "      <th>151437</th>\n",
       "      <td>262088</td>\n",
       "    </tr>\n",
       "    <tr>\n",
       "      <th>155482</th>\n",
       "      <td>NaN</td>\n",
       "    </tr>\n",
       "  </tbody>\n",
       "</table>\n",
       "</div>"
      ],
      "text/plain": [
       "                                                duplicate\n",
       "10954                                                 NaN\n",
       "14871                  243500;410103;505684;515027;528678\n",
       "54746                                                 NaN\n",
       "70171                                                 NaN\n",
       "75119                                                 NaN\n",
       "83003                                                 NaN\n",
       "84106                                                 NaN\n",
       "91774                                                 NaN\n",
       "92073                                                 NaN\n",
       "93789                                       354686;394099\n",
       "94514                                              412958\n",
       "98682   269769;273198;276032;289262;314013;331267;3428...\n",
       "104142                                                NaN\n",
       "111656                                                NaN\n",
       "134649                 409810;425098;428592;456775;467820\n",
       "135567                                                NaN\n",
       "140108                                                NaN\n",
       "145524                                                NaN\n",
       "151437                                             262088\n",
       "155482                                                NaN"
      ]
     },
     "execution_count": 8,
     "metadata": {},
     "output_type": "execute_result"
    }
   ],
   "source": [
    "filtered_relations.head(20)"
   ]
  },
  {
   "cell_type": "code",
   "execution_count": 9,
   "metadata": {},
   "outputs": [],
   "source": [
    "relations = {}\n",
    "\n",
    "for key in filtered_relations.index:\n",
    "    \n",
    "    if key in reports_openoffice_val.index:\n",
    "        index = key\n",
    "        try:\n",
    "            duplicates_id_whole_dataset = [int(id) for id in filtered_relations.loc[index].values[0].split(';')]\n",
    "            duplicates_id = [x for x in duplicates_id_whole_dataset if x in reports_openoffice_val.index]\n",
    "        except:\n",
    "            duplicates_id = []\n",
    "\n",
    "        if len(duplicates_id) > 0 and relations.get(index) is None:\n",
    "            relations[index] = duplicates_id\n"
   ]
  },
  {
   "cell_type": "code",
   "execution_count": 11,
   "metadata": {},
   "outputs": [
    {
     "data": {
      "text/plain": [
       "36.61"
      ]
     },
     "execution_count": 11,
     "metadata": {},
     "output_type": "execute_result"
    }
   ],
   "source": [
    "len(relations) / 100"
   ]
  },
  {
   "cell_type": "code",
   "execution_count": 12,
   "metadata": {},
   "outputs": [
    {
     "name": "stderr",
     "output_type": "stream",
     "text": [
      "C:\\Users\\lpros\\AppData\\Local\\Temp\\ipykernel_14132\\519863780.py:7: DeprecationWarning: Sampling from a set deprecated\n",
      "since Python 3.9 and will be removed in a subsequent version.\n",
      "  random_realations = random.sample(relations.items(), 100)\n"
     ]
    }
   ],
   "source": [
    "samples_reports = {}\n",
    "samples_relations = []\n",
    "\n",
    "num_of_samples = int(len(relations) / 100)\n",
    "\n",
    "for i in range(0, num_of_samples):\n",
    "    random_realations = random.sample(relations.items(), 100)\n",
    "\n",
    "    random_realations = dict(random_realations)\n",
    "    samples_relations.append(random_realations)\n",
    "\n",
    "    for key in random_realations.keys():\n",
    "        relations.pop(key)\n",
    "\n",
    "\n",
    "counter = 1\n",
    "\n",
    "for sample_relations in samples_relations:\n",
    "    target_ids = set([x for x in sample_relations.keys()])\n",
    "\n",
    "    for ids_list in sample_relations.values():\n",
    "        for value in ids_list:\n",
    "            target_ids.add(value)\n",
    "\n",
    "    filtered_df = reports_openoffice_appended.loc[reports_openoffice_appended.index.intersection(target_ids)][['description', 'short_desc']]\n",
    "    selected_relations_series = pd.Series(sample_relations)\n",
    "    selected_relations_df = pd.DataFrame({'duplicates': selected_relations_series})\n",
    "    selected_relations_df.index.name = \"issue_id\"\n",
    "\n",
    "    samples_reports[counter] = {\n",
    "        \"relations\": selected_relations_df,\n",
    "        \"reports\": filtered_df\n",
    "    }\n",
    "    \n",
    "    counter += 1\n",
    "\n"
   ]
  },
  {
   "cell_type": "code",
   "execution_count": 13,
   "metadata": {},
   "outputs": [
    {
     "name": "stdout",
     "output_type": "stream",
     "text": [
      "100\n",
      "100\n",
      "100\n"
     ]
    }
   ],
   "source": [
    "print(len(samples_relations[0].keys()))\n",
    "print(len(samples_relations[1].keys()))\n",
    "print(len(samples_relations[2].keys()))"
   ]
  },
  {
   "cell_type": "code",
   "execution_count": 14,
   "metadata": {},
   "outputs": [
    {
     "name": "stdout",
     "output_type": "stream",
     "text": [
      "436\n",
      "418\n",
      "425\n",
      "428\n",
      "407\n"
     ]
    }
   ],
   "source": [
    "print(len(samples_reports[1][\"reports\"]))\n",
    "print(len(samples_reports[2][\"reports\"]))\n",
    "print(len(samples_reports[3][\"reports\"]))\n",
    "print(len(samples_reports[4][\"reports\"]))\n",
    "print(len(samples_reports[5][\"reports\"]))\n",
    "        "
   ]
  },
  {
   "cell_type": "code",
   "execution_count": 15,
   "metadata": {},
   "outputs": [
    {
     "data": {
      "text/html": [
       "<div>\n",
       "<style scoped>\n",
       "    .dataframe tbody tr th:only-of-type {\n",
       "        vertical-align: middle;\n",
       "    }\n",
       "\n",
       "    .dataframe tbody tr th {\n",
       "        vertical-align: top;\n",
       "    }\n",
       "\n",
       "    .dataframe thead th {\n",
       "        text-align: right;\n",
       "    }\n",
       "</style>\n",
       "<table border=\"1\" class=\"dataframe\">\n",
       "  <thead>\n",
       "    <tr style=\"text-align: right;\">\n",
       "      <th></th>\n",
       "      <th>duplicates</th>\n",
       "    </tr>\n",
       "    <tr>\n",
       "      <th>issue_id</th>\n",
       "      <th></th>\n",
       "    </tr>\n",
       "  </thead>\n",
       "  <tbody>\n",
       "    <tr>\n",
       "      <th>281384</th>\n",
       "      <td>[345882]</td>\n",
       "    </tr>\n",
       "    <tr>\n",
       "      <th>638737</th>\n",
       "      <td>[505117]</td>\n",
       "    </tr>\n",
       "    <tr>\n",
       "      <th>361551</th>\n",
       "      <td>[356172, 358004, 358457, 359180, 360337, 36051...</td>\n",
       "    </tr>\n",
       "    <tr>\n",
       "      <th>375341</th>\n",
       "      <td>[369882]</td>\n",
       "    </tr>\n",
       "    <tr>\n",
       "      <th>376250</th>\n",
       "      <td>[466454, 482840, 500356]</td>\n",
       "    </tr>\n",
       "    <tr>\n",
       "      <th>...</th>\n",
       "      <td>...</td>\n",
       "    </tr>\n",
       "    <tr>\n",
       "      <th>370787</th>\n",
       "      <td>[410325]</td>\n",
       "    </tr>\n",
       "    <tr>\n",
       "      <th>426375</th>\n",
       "      <td>[424200]</td>\n",
       "    </tr>\n",
       "    <tr>\n",
       "      <th>402465</th>\n",
       "      <td>[306965]</td>\n",
       "    </tr>\n",
       "    <tr>\n",
       "      <th>575049</th>\n",
       "      <td>[575114, 575150]</td>\n",
       "    </tr>\n",
       "    <tr>\n",
       "      <th>293919</th>\n",
       "      <td>[293918]</td>\n",
       "    </tr>\n",
       "  </tbody>\n",
       "</table>\n",
       "<p>100 rows × 1 columns</p>\n",
       "</div>"
      ],
      "text/plain": [
       "                                                 duplicates\n",
       "issue_id                                                   \n",
       "281384                                             [345882]\n",
       "638737                                             [505117]\n",
       "361551    [356172, 358004, 358457, 359180, 360337, 36051...\n",
       "375341                                             [369882]\n",
       "376250                             [466454, 482840, 500356]\n",
       "...                                                     ...\n",
       "370787                                             [410325]\n",
       "426375                                             [424200]\n",
       "402465                                             [306965]\n",
       "575049                                     [575114, 575150]\n",
       "293919                                             [293918]\n",
       "\n",
       "[100 rows x 1 columns]"
      ]
     },
     "execution_count": 15,
     "metadata": {},
     "output_type": "execute_result"
    }
   ],
   "source": [
    "samples_reports[1][\"relations\"]"
   ]
  },
  {
   "cell_type": "code",
   "execution_count": 17,
   "metadata": {},
   "outputs": [],
   "source": [
    "file_path = \"data/firefox_samples.pkl\"\n",
    "with open(file_path, 'wb') as f:\n",
    "    pickle.dump(samples_reports, f)"
   ]
  },
  {
   "cell_type": "code",
   "execution_count": null,
   "metadata": {},
   "outputs": [],
   "source": []
  }
 ],
 "metadata": {
  "kernelspec": {
   "display_name": "Python 3",
   "language": "python",
   "name": "python3"
  },
  "language_info": {
   "codemirror_mode": {
    "name": "ipython",
    "version": 3
   },
   "file_extension": ".py",
   "mimetype": "text/x-python",
   "name": "python",
   "nbconvert_exporter": "python",
   "pygments_lexer": "ipython3",
   "version": "3.10.7"
  }
 },
 "nbformat": 4,
 "nbformat_minor": 2
}
