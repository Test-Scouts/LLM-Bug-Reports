{
 "cells": [
  {
   "cell_type": "markdown",
   "id": "477f7d3c",
   "metadata": {},
   "source": [
    "Install the sencence transformers library"
   ]
  },
  {
   "cell_type": "code",
   "execution_count": null,
   "id": "76b97397-3f12-406f-8e4c-3f400cd8a816",
   "metadata": {
    "tags": []
   },
   "outputs": [],
   "source": [
    "!pip install -U sentence-transformers"
   ]
  },
  {
   "cell_type": "markdown",
   "id": "c7fd83fc",
   "metadata": {},
   "source": [
    "Import all dependencies"
   ]
  },
  {
   "cell_type": "code",
   "execution_count": null,
   "id": "22d4701c-c6ab-416f-8cc5-4b7d44381646",
   "metadata": {
    "tags": []
   },
   "outputs": [],
   "source": [
    "from sentence_transformers import SentenceTransformer, SentencesDataset, losses\n",
    "from huggingface_hub import notebook_login\n",
    "from torch.utils.data import DataLoader\n",
    "from torch import device, cuda\n",
    "import boto3\n",
    "import pickle"
   ]
  },
  {
   "cell_type": "markdown",
   "id": "b2a686fd",
   "metadata": {},
   "source": [
    "Login to huggingface account to push the model"
   ]
  },
  {
   "cell_type": "code",
   "execution_count": null,
   "id": "8f9153bf-a1a8-4e28-92c1-cbc20c66bd51",
   "metadata": {
    "tags": []
   },
   "outputs": [],
   "source": [
    "notebook_login()"
   ]
  },
  {
   "cell_type": "markdown",
   "id": "a6d4f566",
   "metadata": {},
   "source": [
    "If the data is stored at an S3 bucket, read the triplets data from the S3 bucket"
   ]
  },
  {
   "cell_type": "code",
   "execution_count": null,
   "id": "1d6b76a2-003e-4bd7-8ccb-f2105722f34b",
   "metadata": {
    "tags": []
   },
   "outputs": [],
   "source": [
    "s3 = boto3.client('s3')\n",
    "\n",
    "bucket = 'sagemaker-studio-113002098422-fuoot0q3jmu'\n",
    "\n",
    "eclipse_triplets_file_key = 'thesis/splits/complete_triplets/complete_eclipse_triplets.pkl'\n",
    "firefox_triplets_file_key = 'thesis/splits/complete_triplets/complete_firefox_triplets.pkl'\n",
    "netbeans_triplets_file_key = 'thesis/splits/complete_triplets/complete_netbeans_triplets.pkl'\n",
    "openoffice_triplets_file_key = 'thesis/splits/complete_triplets/complete_openoffice_triplets.pkl'\n",
    "\n",
    "\n",
    "eclipse_triplets_obj = s3.get_object(Bucket = bucket, Key = eclipse_triplets_file_key)\n",
    "firefox_triplets_obj = s3.get_object(Bucket = bucket, Key = firefox_triplets_file_key)\n",
    "netbeans_triplets_obj = s3.get_object(Bucket = bucket, Key = netbeans_triplets_file_key)\n",
    "openoffice_triplets_obj = s3.get_object(Bucket = bucket, Key = openoffice_triplets_file_key)\n"
   ]
  },
  {
   "cell_type": "code",
   "execution_count": null,
   "id": "5fc2da2e-087e-4433-9be9-3606cd909679",
   "metadata": {
    "tags": []
   },
   "outputs": [],
   "source": [
    "eclipse_triplets = pickle.load(eclipse_triplets_obj['Body'])\n",
    "firefox_triplets = pickle.load(firefox_triplets_obj['Body'])\n",
    "netbeans_triplets = pickle.load(netbeans_triplets_obj['Body'])\n",
    "openoffice_triplets = pickle.load(openoffice_triplets_obj['Body'])"
   ]
  },
  {
   "cell_type": "markdown",
   "id": "b4f8f128",
   "metadata": {},
   "source": [
    "If the triplets data is stored locally, simply read the data"
   ]
  },
  {
   "cell_type": "code",
   "execution_count": null,
   "id": "0b01e972",
   "metadata": {},
   "outputs": [],
   "source": [
    "# eclipse_triplets    = pickle.load('eclipse_triplets_file_path')\n",
    "# firefox_triplets    = pickle.load('firefox_triplets_file_path')\n",
    "# netbeans_triplets   = pickle.load('netbeans_triplets_file_path')\n",
    "# openoffice_triplets = pickle.load('openoffice_triplets_file_path')"
   ]
  },
  {
   "cell_type": "markdown",
   "id": "1ea89d21",
   "metadata": {},
   "source": [
    "Create an array with all triplets"
   ]
  },
  {
   "cell_type": "code",
   "execution_count": null,
   "id": "3d974730-bcf5-4e5e-995a-0314ecf14347",
   "metadata": {
    "tags": []
   },
   "outputs": [],
   "source": [
    "triplets_datasets = [\n",
    "    eclipse_triplets,\n",
    "    firefox_triplets,\n",
    "    netbeans_triplets,\n",
    "    openoffice_triplets\n",
    "]\n",
    "\n",
    "triplets = []\n",
    "\n",
    "for triplet_dataset in triplets_datasets:\n",
    "\n",
    "    triplets.extend(triplet_dataset)"
   ]
  },
  {
   "cell_type": "markdown",
   "id": "cc678aa6",
   "metadata": {},
   "source": [
    "Import model to be fine-tuned and send it to the GPU (if available)"
   ]
  },
  {
   "cell_type": "code",
   "execution_count": null,
   "id": "a7fa0092-d4f9-4dd5-8a3b-f7ed5a3e6e4c",
   "metadata": {
    "tags": []
   },
   "outputs": [],
   "source": [
    "model_name = \"all-mpnet-base-v2\"\n",
    "model = SentenceTransformer(model_name)"
   ]
  },
  {
   "cell_type": "code",
   "execution_count": null,
   "id": "54fccdeb-9386-4837-bceb-b674c2c83949",
   "metadata": {
    "tags": []
   },
   "outputs": [],
   "source": [
    "device = device('cuda' if cuda.is_available() else 'cpu')\n",
    "device"
   ]
  },
  {
   "cell_type": "code",
   "execution_count": null,
   "id": "01b02110-7521-42da-8d81-1310ce91e555",
   "metadata": {
    "tags": []
   },
   "outputs": [],
   "source": [
    "model.to(device)"
   ]
  },
  {
   "cell_type": "markdown",
   "id": "3a04b581",
   "metadata": {},
   "source": [
    "Set hyperparameters and fine-tune the model"
   ]
  },
  {
   "cell_type": "code",
   "execution_count": null,
   "id": "0147f454-06e6-4b4c-a8a8-7cd1fa38c6c0",
   "metadata": {
    "tags": []
   },
   "outputs": [],
   "source": [
    "train_dataset = SentencesDataset(triplets, model)\n",
    "train_dataloader = DataLoader(train_dataset, shuffle=True, batch_size=16)"
   ]
  },
  {
   "cell_type": "code",
   "execution_count": null,
   "id": "b6091110-a216-43f7-8703-1af0c4e0aa74",
   "metadata": {
    "tags": []
   },
   "outputs": [],
   "source": [
    "train_loss = losses.TripletLoss(model=model, triplet_margin=5)"
   ]
  },
  {
   "cell_type": "code",
   "execution_count": null,
   "id": "59d6c8d8-3461-4ab8-a33b-5ab22fccf97e",
   "metadata": {
    "tags": []
   },
   "outputs": [],
   "source": [
    "num_epochs = 3\n",
    "warm_up_steps = int(0.15 * len(train_dataloader) * num_epochs)\n",
    "warm_up_steps"
   ]
  },
  {
   "cell_type": "code",
   "execution_count": null,
   "id": "ca96c251-6045-4177-9aba-1513c7abfdb6",
   "metadata": {
    "tags": []
   },
   "outputs": [],
   "source": [
    "learning_rate = 2e-7\n",
    "\n",
    "model.fit(\n",
    "            train_objectives=[(train_dataloader, train_loss)],\n",
    "            epochs=num_epochs,\n",
    "            warmup_steps=warm_up_steps,\n",
    "            optimizer_params={\"lr\": learning_rate}\n",
    "        )"
   ]
  },
  {
   "cell_type": "markdown",
   "id": "7ac09e59",
   "metadata": {},
   "source": [
    "Push the fine-tuned model to a huggingface repository"
   ]
  },
  {
   "cell_type": "code",
   "execution_count": null,
   "id": "01da146d-16af-4e53-a817-69584e8b5663",
   "metadata": {
    "tags": []
   },
   "outputs": [],
   "source": [
    "model_destination = \"<your_huggingface_repository>/<model_name>\"\n",
    "model.push_to_hub(model_destination)"
   ]
  }
 ],
 "metadata": {
  "kernelspec": {
   "display_name": "conda_python3",
   "language": "python",
   "name": "conda_python3"
  },
  "language_info": {
   "codemirror_mode": {
    "name": "ipython",
    "version": 3
   },
   "file_extension": ".py",
   "mimetype": "text/x-python",
   "name": "python",
   "nbconvert_exporter": "python",
   "pygments_lexer": "ipython3",
   "version": "3.10.13"
  }
 },
 "nbformat": 4,
 "nbformat_minor": 5
}
