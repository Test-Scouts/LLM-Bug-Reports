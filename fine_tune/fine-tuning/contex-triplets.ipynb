{
 "cells": [
  {
   "cell_type": "code",
   "execution_count": 2,
   "metadata": {},
   "outputs": [],
   "source": [
    "from sentence_transformers import InputExample\n",
    "\n",
    "import pandas as pd\n",
    "import pickle"
   ]
  },
  {
   "cell_type": "code",
   "execution_count": 11,
   "metadata": {},
   "outputs": [],
   "source": [
    "# for each bug extract its textual info (short decription and description)\n",
    "def get_bug_textual_info(value: pd.Series):\n",
    "\n",
    "    short_desc = ''\n",
    "    description = ''\n",
    "\n",
    "    if isinstance(value['short_desc'], str):\n",
    "        short_desc = value['short_desc']\n",
    "    \n",
    "    if isinstance(value['description'], str):\n",
    "        description = value['description']\n",
    "    \n",
    "    \n",
    "\n",
    "    return f\"{short_desc} - {description}\""
   ]
  },
  {
   "cell_type": "code",
   "execution_count": 12,
   "metadata": {},
   "outputs": [],
   "source": [
    "# use reports from the train split and the relations file to create the triplets\n",
    "def generate_triplets_with_contex(reports, relations):\n",
    "    duplicates_pairs_set = set()\n",
    "    train_examples = []\n",
    "\n",
    "    # iterate trough all the report in the train split \n",
    "    for index, value in reports.iterrows():\n",
    "\n",
    "        # check if report has duplicate\n",
    "        if index in relations.index:\n",
    "\n",
    "            # get the report's duplicates\n",
    "            duplicates_id = []\n",
    "            try:\n",
    "                duplicates_id = [int(id) for id in relations.loc[index].values[0].split(';')]\n",
    "            except:\n",
    "                duplicates_id = []\n",
    "\n",
    "            # iterate trough duplicates' ids\n",
    "            for id in duplicates_id:\n",
    "\n",
    "                # check if duplicate belongs to the train split\n",
    "                if id in reports.index:\n",
    "                    \n",
    "                    # create duplicate pair and add it to the duplicates set if it's not there already\n",
    "                    duplicates_pair = tuple(sorted([index, id]))\n",
    "                    if duplicates_pair not in duplicates_pairs_set:\n",
    "\n",
    "                        duplicates_pairs_set.add(duplicates_pair)\n",
    "\n",
    "                        positive = reports.loc[id]\n",
    "\n",
    "                        # select a random non duplicate to be the negative example of the triplet\n",
    "                        negative = reports.sample(n=1).iloc[0]\n",
    "                        \n",
    "                        while (int(negative.name) == index) or (int(negative.name) in duplicates_id) or (not isinstance(negative['description'], str)):\n",
    "                            negative = reports.sample(n=1).iloc[0]\n",
    "\n",
    "                        # finally, create the triplet with the bug report (anchor), its duplicate (positive) and a non-duplicate (negative)\n",
    "                        if isinstance(value['description'], str) and isinstance(positive['description'], str):\n",
    "                            train_examples.append(\n",
    "                                InputExample(texts=[\n",
    "                                    get_bug_textual_info(value),\n",
    "                                    get_bug_textual_info(positive),\n",
    "                                    get_bug_textual_info(negative)\n",
    "                                ])\n",
    "                            )\n",
    "    # return list with all triplets\n",
    "    return train_examples"
   ]
  },
  {
   "cell_type": "code",
   "execution_count": 39,
   "metadata": {},
   "outputs": [],
   "source": [
    "reports_sim_dict = {\n",
    "    'short_desc': {\n",
    "        1: 2,\n",
    "        2: \"This is another report\",\n",
    "        3: \"I need help with this\",\n",
    "        4: \"I can't fix this\",\n",
    "        5: \"What is happening?\"\n",
    "    },\n",
    "    'component': {\n",
    "        1: 'ui',\n",
    "        2: 'ui',\n",
    "        3: 'code',\n",
    "        4: 'code',\n",
    "        5: 'code'\n",
    "    },\n",
    "    'description': {\n",
    "        1: '1' * 10,\n",
    "        2: '2' * 10,\n",
    "        3: '3' * 10,\n",
    "        4: '4' * 10,\n",
    "        5: '5' * 10,\n",
    "        \n",
    "    }\n",
    "}\n",
    "\n",
    "relations_sim_dict = {\n",
    "    'duplicate': {\n",
    "        1: '2',\n",
    "        2: '1',\n",
    "        3: '4;5',\n",
    "        4: '3'\n",
    "    }\n",
    "}"
   ]
  },
  {
   "cell_type": "code",
   "execution_count": 40,
   "metadata": {},
   "outputs": [],
   "source": [
    "reports_sim = pd.DataFrame(reports_sim_dict)\n",
    "reports_sim.rename_axis('bug_id', inplace=True)\n",
    "\n",
    "\n",
    "relations_sim = pd.DataFrame(relations_sim_dict)\n",
    "relations_sim.rename_axis('issue_id', inplace=True)"
   ]
  },
  {
   "cell_type": "code",
   "execution_count": 41,
   "metadata": {},
   "outputs": [
    {
     "data": {
      "text/plain": [
       "short_desc              2\n",
       "component              ui\n",
       "description    1111111111\n",
       "Name: 1, dtype: object"
      ]
     },
     "execution_count": 41,
     "metadata": {},
     "output_type": "execute_result"
    }
   ],
   "source": [
    "reports_sim.iloc[0]"
   ]
  },
  {
   "cell_type": "code",
   "execution_count": 42,
   "metadata": {},
   "outputs": [
    {
     "data": {
      "text/plain": [
       "' - 1111111111'"
      ]
     },
     "execution_count": 42,
     "metadata": {},
     "output_type": "execute_result"
    }
   ],
   "source": [
    "get_bug_textual_info(reports_sim.iloc[0])"
   ]
  },
  {
   "cell_type": "code",
   "execution_count": 43,
   "metadata": {},
   "outputs": [
    {
     "data": {
      "text/plain": [
       "3"
      ]
     },
     "execution_count": 43,
     "metadata": {},
     "output_type": "execute_result"
    }
   ],
   "source": [
    "test = generate_triplets_with_contex(reports_sim, relations_sim)\n",
    "len(test)"
   ]
  },
  {
   "cell_type": "code",
   "execution_count": 44,
   "metadata": {},
   "outputs": [
    {
     "data": {
      "text/plain": [
       "[' - 1111111111',\n",
       " 'This is another report - 2222222222',\n",
       " 'What is happening? - 5555555555']"
      ]
     },
     "execution_count": 44,
     "metadata": {},
     "output_type": "execute_result"
    }
   ],
   "source": [
    "test[0].texts"
   ]
  },
  {
   "cell_type": "code",
   "execution_count": 19,
   "metadata": {},
   "outputs": [],
   "source": [
    "train_file_path = 'data/splits/eclipse/eclipse_train.csv'\n",
    "relations_file_path = 'data/br/eclipse/eclipse_pairs.csv'\n",
    "\n",
    "reports_train_eclipse = pd.read_csv(train_file_path, index_col='bug_id')\n",
    "relations_eclipse = pd.read_csv(relations_file_path, index_col='issue_id')"
   ]
  },
  {
   "cell_type": "code",
   "execution_count": 20,
   "metadata": {},
   "outputs": [],
   "source": [
    "train_file_path = 'data/splits/openoffice/openoffice_train.csv'\n",
    "relations_file_path = 'data/br/openoffice/openoffice_pairs.csv'\n",
    "\n",
    "reports_train_openoffice = pd.read_csv(train_file_path, index_col='bug_id')\n",
    "relations_openoffice = pd.read_csv(relations_file_path, index_col='issue_id')"
   ]
  },
  {
   "cell_type": "code",
   "execution_count": 21,
   "metadata": {},
   "outputs": [],
   "source": [
    "train_file_path = 'data/splits/firefox/firefox_train.csv'\n",
    "relations_file_path = 'data/br/firefox/firefox_pairs.csv'\n",
    "\n",
    "reports_train_firefox = pd.read_csv(train_file_path, index_col='bug_id')\n",
    "relations_firefox = pd.read_csv(relations_file_path, index_col='issue_id')"
   ]
  },
  {
   "cell_type": "code",
   "execution_count": 22,
   "metadata": {},
   "outputs": [],
   "source": [
    "train_file_path = './data/splits/netbeans/netbeans_train.csv'\n",
    "relations_file_path = 'data/br/netbeans/netbeans_pairs - Copia.csv'\n",
    "\n",
    "reports_train_netbeans = pd.read_csv(train_file_path, index_col='bug_id')\n",
    "relations_netbeans = pd.read_csv(relations_file_path, index_col='issue_id')"
   ]
  },
  {
   "cell_type": "code",
   "execution_count": 23,
   "metadata": {},
   "outputs": [],
   "source": [
    "datasets = {}"
   ]
  },
  {
   "cell_type": "code",
   "execution_count": 24,
   "metadata": {},
   "outputs": [],
   "source": [
    "datasets['eclipse'] = {\n",
    "    'reports': reports_train_eclipse,\n",
    "    'relations': relations_eclipse\n",
    "}\n",
    "\n",
    "datasets['openoffice'] = {\n",
    "    'reports': reports_train_openoffice,\n",
    "    'relations': relations_openoffice\n",
    "}\n",
    "\n",
    "datasets['firefox'] = {\n",
    "    'reports': reports_train_firefox,\n",
    "    'relations': relations_firefox\n",
    "}\n",
    "\n",
    "datasets['netbeans'] = {\n",
    "    'reports': reports_train_netbeans,\n",
    "    'relations': relations_netbeans\n",
    "}"
   ]
  },
  {
   "cell_type": "code",
   "execution_count": 29,
   "metadata": {},
   "outputs": [],
   "source": [
    "triplets_netbeans = generate_triplets_with_contex(datasets['netbeans']['reports'], datasets['netbeans']['relations'])"
   ]
  },
  {
   "cell_type": "code",
   "execution_count": 116,
   "metadata": {},
   "outputs": [
    {
     "data": {
      "text/plain": [
       "['Undoing an action associated with an automatic import addition leads to a bad carret position - Undoing of \"Add throws..\" hint leads to bad carret position.\\n\\nSteps to reproduce:\\n-------------------\\n1) Open attached Surround.java\\n2) Place carret on line 25.\\n3) Click the Bulb and invoke \"Add Throws Clause ..\"\\n4) Invoke Undo.\\n--> The carret is placed in the import statements block. It should be placed\\nwhere it has been placed before the action, on line 25.\\n\\n[200508291800, JDK 1.5.0_05 b03, solaris 10 / sparc]',\n",
       " 'Incorrect caret position after fast import - After performing a fast import (Ctrl-Shift-I), undo (incorrectly) places the caret position just after the removed import. \\n\\n1. More specifically, type something like\\n\\nFileInputStream in;\\n\\n2. Place the cursor after FileInputStream and press Ctrl-Shift-I. java.io.FileInputStream is imported and the cursor\\nremains (properly) at its location.\\n\\n3. Press Ctrl-Z to undo. The cursor should remain static, but it is moved to the location previously occupied by the import\\n\\n\\nPossibly related to bugs 30914 (closed) or 150426(marked as resolved/later). If it is the same bug as 150426 then please\\nraise the priority because this behaviour is a PITA.',\n",
       " 'Extra folder is produced by browsing. - NetBeans IDE Dev (Build 200610121800)\\n1.5.0_09; Java HotSpot(TM) Client VM 1.5.0_09-b02\\nWindows XP version 5.1 running on x86\\nen_GB (nb); Cp1252\\n\\nSteps:\\n1. Open project under versioned control.\\n2. Select project root and invoke \"Subversion | Copy\" action.\\n3. Push \"Browse\" button.\\n4. Create new folder by \"Into new Folder\" button. Push \"Ok\" button.\\n\\n\"to Repository Folder\" contains now: new created folder + original context name.']"
      ]
     },
     "execution_count": 116,
     "metadata": {},
     "output_type": "execute_result"
    }
   ],
   "source": [
    "triplets_netbeans[5790].texts"
   ]
  },
  {
   "cell_type": "code",
   "execution_count": 118,
   "metadata": {},
   "outputs": [
    {
     "name": "stdout",
     "output_type": "stream",
     "text": [
      "eclipse 20550\n",
      "openoffice 13996\n",
      "save\n",
      "save\n",
      "save\n",
      "save\n",
      "save\n",
      "save\n",
      "save\n",
      "save\n",
      "save\n",
      "save\n",
      "save\n",
      "save\n",
      "save\n",
      "save\n",
      "save\n",
      "firefox 37228\n",
      "netbeans 22374\n"
     ]
    }
   ],
   "source": [
    "for key, value in datasets.items():\n",
    "\n",
    "    # Generate triplets for the train dataset\n",
    "    triplets = generate_triplets_with_contex(value['reports'], value['relations'])\n",
    "    print(key, len(triplets))\n",
    "\n",
    "    # Save triplets into pickle file\n",
    "    triplets_file_path = f'data/splits/complete_triplets/complete_{key}_triplets.pkl'\n",
    "    with open(triplets_file_path, \"wb\") as f:\n",
    "        pickle.dump(triplets, f)\n",
    "\n",
    "    "
   ]
  },
  {
   "cell_type": "code",
   "execution_count": 124,
   "metadata": {},
   "outputs": [
    {
     "name": "stdout",
     "output_type": "stream",
     "text": [
      "eclipse 20550\n",
      "openoffice 13996\n",
      "firefox 37228\n",
      "netbeans 22374\n"
     ]
    }
   ],
   "source": [
    "train_triplets = {}\n",
    "\n",
    "for key, value in datasets.items():\n",
    "    \n",
    "    triplets_file_path = f'data/splits/complete_triplets/complete_{key}_triplets.pkl'\n",
    "\n",
    "    with open(triplets_file_path, \"rb\") as f:\n",
    "        loaded_input_examples = pickle.load(f)\n",
    "\n",
    "    train_triplets[key] = loaded_input_examples\n",
    "\n",
    "    print(key, len(loaded_input_examples))"
   ]
  },
  {
   "cell_type": "code",
   "execution_count": 125,
   "metadata": {},
   "outputs": [],
   "source": [
    "netb = train_triplets['netbeans']"
   ]
  },
  {
   "cell_type": "code",
   "execution_count": 153,
   "metadata": {},
   "outputs": [
    {
     "data": {
      "text/plain": [
       "['[70cat] IllegalStateException: paragraphViewEndOffset=9359 > docViewEndOffset=9358 docView: DV@00c5d01c#306:<0,9358>, WxH:960.0x5202.0; incomingMod=false; lengthyAtomicEdit=0 Doc: NbEditorDocument@0144dd0d, L - Build: NetBeans IDE Dev (Build 201102100500)\\nVM: Java HotSpot(TM) Client VM, 20.0-b02, Java(TM) SE Runtime Environment, 1.7.0-ea-b118\\nOS: Windows XP\\n\\nStacktrace: \\njava.lang.IllegalStateException: paragraphViewEndOffset=9359 > docViewEndOffset=9358\\ndocView:\\nDV@00c5d01c#306:<0,9358>, WxH:960.0x5202.0; incomingMod=false; lengthyAtomicEdit=0\\nDoc: NbEditorDocument@0144dd0d, Length=9357, Version=106, StreamDesc:org.netbeans.modules.java.JavaDataObject@e551a4[MasterFileObject[E:\\\\quaglan\\\\My Documents\\\\projects\\\\subversion\\\\sdi3\\\\Geoportal\\\\Common\\\\MavenProjects\\\\INSPIREGeoportalLibrary\\\\src\\\\main\\\\java\\\\eu\\\\europa\\\\ec\\\\inspire\\\\model\\\\Locator.java@4d834f:1bf756b,valid=true]]\\n    [  0]: PV@00e212fa#0:<0,3> Y=0.0(R0.0) \"/*\\\\n\", WxH:0.0x17.0, children=null\\n    [  1]: PV@004bfe6a#0:<3,56> Y=17.0(R17.0) \" * To c...es\\\\n\", WxH:0.0x17.0, children=null\\n    [  2]: PV@012c0d69#0:<56,96> Y=34.0(R34.0) \" * and ...r.\\\\n\", WxH:0.0x17.0, children=null\\n    [  3]: PV@01247461#0:<96,100> Y=51.0(R51.0) \" */\\\\n\", WxH:0.0x17.0, children=null\\n    [  4]: PV@0054b3d8#0:<100,136> Y=68.0(R68.0) \"package...l;\\\\n\", WxH:0.0x17.0, children=null\\n    ...\\n    [301]: PV@00eb3455#0:<9347,9348> Y=5117.0(R5117.0) \"\\\\n\", WxH:0.0x17.0, \\n   at org.netbeans.modules.editor.lib2.view.ViewBuilder.checkRemoveParagraphs(ViewBuilder.java:543)\\n   at org.netbeans.modules.editor.lib2.view.ViewBuilder.createNextView(ViewBuilder.java:473)\\n   at org.netbeans.modules.editor.lib2.view.ViewBuilder.createViews(ViewBuilder.java:336)\\n   at org.netbeans.modules.editor.lib2.view.ViewUpdates.buildViews(ViewUpdates.java:145)\\n   at org.netbeans.modules.editor.lib2.view.ViewUpdates.initChildren(ViewUpdates.java:212)\\n   at org.netbeans.modules.editor.lib2.view.DocumentView.initChildren(DocumentView.java:593)',\n",
       " \"java.lang.IllegalStateException: limitOffset=1975 > docTextLength=1325 - [ JDK VERSION : 1.6.22 ]\\n\\nAttempted to cut a selection from a file.  The cut of selected text didn't\\nrespond immediately.  Instead, cut entire content.\\nUsed Paste operation to restore file.\\n\\nException thrown at end of paste.\\n\\nSee Attached IDE Log File for full details.\",\n",
       " 'IDE crash when I click \"print to html\". - IDE crash when I click \"print to html\" and the \"Open generated HTML in browser\" is checked, the IDE just close with \\nprompting to save any data, however,Altought the IDE crashed the HTML file is generated in its default location.\\n\\nNote, if the \"Open generated HTML in browser\" is not checked, the IDE will work normal .\\n\\nJava version is JDK1.6Update2\\nWebbrower seletect is \"default web browser\".\\nBrowser availabe is IE7.\\nNetbean version 6.0 M10.\\n\\nBest Regards,']"
      ]
     },
     "execution_count": 153,
     "metadata": {},
     "output_type": "execute_result"
    }
   ],
   "source": [
    "netb[7187].texts"
   ]
  },
  {
   "cell_type": "code",
   "execution_count": null,
   "metadata": {},
   "outputs": [],
   "source": []
  }
 ],
 "metadata": {
  "kernelspec": {
   "display_name": "Python 3",
   "language": "python",
   "name": "python3"
  },
  "language_info": {
   "codemirror_mode": {
    "name": "ipython",
    "version": 3
   },
   "file_extension": ".py",
   "mimetype": "text/x-python",
   "name": "python",
   "nbconvert_exporter": "python",
   "pygments_lexer": "ipython3",
   "version": "3.10.7"
  }
 },
 "nbformat": 4,
 "nbformat_minor": 2
}
