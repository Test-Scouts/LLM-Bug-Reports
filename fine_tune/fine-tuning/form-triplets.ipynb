{
 "cells": [
  {
   "cell_type": "markdown",
   "metadata": {},
   "source": [
    "Import dependencies"
   ]
  },
  {
   "cell_type": "code",
   "execution_count": null,
   "metadata": {},
   "outputs": [],
   "source": [
    "from sentence_transformers import InputExample\n",
    "\n",
    "import pandas as pd\n",
    "import pickle"
   ]
  },
  {
   "cell_type": "markdown",
   "metadata": {},
   "source": [
    "Define functions to for the triplets"
   ]
  },
  {
   "cell_type": "code",
   "execution_count": null,
   "metadata": {},
   "outputs": [],
   "source": [
    "# for each bug extract its textual info (short decription and description)\n",
    "def get_bug_textual_info(value: pd.Series):\n",
    "\n",
    "    short_desc = ''\n",
    "    description = ''\n",
    "\n",
    "    if isinstance(value['short_desc'], str):\n",
    "        short_desc = value['short_desc']\n",
    "    \n",
    "    if isinstance(value['description'], str):\n",
    "        description = value['description']\n",
    "    \n",
    "    \n",
    "\n",
    "    return f\"{short_desc} - {description}\""
   ]
  },
  {
   "cell_type": "code",
   "execution_count": null,
   "metadata": {},
   "outputs": [],
   "source": [
    "# use reports from the train split and the relations file to create the triplets\n",
    "def generate_triplets_with_contex(reports, relations):\n",
    "    duplicates_pairs_set = set()\n",
    "    train_examples = []\n",
    "\n",
    "    # iterate trough all the report in the train split \n",
    "    for index, value in reports.iterrows():\n",
    "\n",
    "        # check if report has duplicate\n",
    "        if index in relations.index:\n",
    "\n",
    "            # get the report's duplicates\n",
    "            duplicates_id = []\n",
    "            try:\n",
    "                duplicates_id = [int(id) for id in relations.loc[index].values[0].split(';')]\n",
    "            except:\n",
    "                duplicates_id = []\n",
    "\n",
    "            # iterate trough duplicates' ids\n",
    "            for id in duplicates_id:\n",
    "\n",
    "                # check if duplicate belongs to the train split\n",
    "                if id in reports.index:\n",
    "                    \n",
    "                    # create duplicate pair and add it to the duplicates set if it's not there already\n",
    "                    duplicates_pair = tuple(sorted([index, id]))\n",
    "                    if duplicates_pair not in duplicates_pairs_set:\n",
    "\n",
    "                        duplicates_pairs_set.add(duplicates_pair)\n",
    "\n",
    "                        positive = reports.loc[id]\n",
    "\n",
    "                        # select a random non duplicate to be the negative example of the triplet\n",
    "                        negative = reports.sample(n=1).iloc[0]\n",
    "                        \n",
    "                        while (int(negative.name) == index) or (int(negative.name) in duplicates_id) or (not isinstance(negative['description'], str)):\n",
    "                            negative = reports.sample(n=1).iloc[0]\n",
    "\n",
    "                        # finally, create the triplet with the bug report (anchor), its duplicate (positive) and a non-duplicate (negative)\n",
    "                        if isinstance(value['description'], str) and isinstance(positive['description'], str):\n",
    "                            train_examples.append(\n",
    "                                InputExample(texts=[\n",
    "                                    get_bug_textual_info(value),\n",
    "                                    get_bug_textual_info(positive),\n",
    "                                    get_bug_textual_info(negative)\n",
    "                                ])\n",
    "                            )\n",
    "    # return list with all triplets\n",
    "    return train_examples"
   ]
  },
  {
   "cell_type": "markdown",
   "metadata": {},
   "source": [
    "Import all the training splits and the relations files"
   ]
  },
  {
   "cell_type": "code",
   "execution_count": null,
   "metadata": {},
   "outputs": [],
   "source": [
    "train_file_path = 'data/splits/eclipse/eclipse_train.csv'\n",
    "relations_file_path = 'data/br/eclipse/eclipse_pairs.csv'\n",
    "\n",
    "reports_train_eclipse = pd.read_csv(train_file_path, index_col='bug_id')\n",
    "relations_eclipse = pd.read_csv(relations_file_path, index_col='issue_id')"
   ]
  },
  {
   "cell_type": "code",
   "execution_count": null,
   "metadata": {},
   "outputs": [],
   "source": [
    "train_file_path = 'data/splits/openoffice/openoffice_train.csv'\n",
    "relations_file_path = 'data/br/openoffice/openoffice_pairs.csv'\n",
    "\n",
    "reports_train_openoffice = pd.read_csv(train_file_path, index_col='bug_id')\n",
    "relations_openoffice = pd.read_csv(relations_file_path, index_col='issue_id')"
   ]
  },
  {
   "cell_type": "code",
   "execution_count": null,
   "metadata": {},
   "outputs": [],
   "source": [
    "train_file_path = 'data/splits/firefox/firefox_train.csv'\n",
    "relations_file_path = 'data/br/firefox/firefox_pairs.csv'\n",
    "\n",
    "reports_train_firefox = pd.read_csv(train_file_path, index_col='bug_id')\n",
    "relations_firefox = pd.read_csv(relations_file_path, index_col='issue_id')"
   ]
  },
  {
   "cell_type": "code",
   "execution_count": null,
   "metadata": {},
   "outputs": [],
   "source": [
    "train_file_path = './data/splits/netbeans/netbeans_train.csv'\n",
    "relations_file_path = 'data/br/netbeans/netbeans_pairs - Copia.csv'\n",
    "\n",
    "reports_train_netbeans = pd.read_csv(train_file_path, index_col='bug_id')\n",
    "relations_netbeans = pd.read_csv(relations_file_path, index_col='issue_id')"
   ]
  },
  {
   "cell_type": "markdown",
   "metadata": {},
   "source": [
    "Create dictionary to store them all"
   ]
  },
  {
   "cell_type": "code",
   "execution_count": null,
   "metadata": {},
   "outputs": [],
   "source": [
    "datasets = {}"
   ]
  },
  {
   "cell_type": "code",
   "execution_count": null,
   "metadata": {},
   "outputs": [],
   "source": [
    "datasets['eclipse'] = {\n",
    "    'reports': reports_train_eclipse,\n",
    "    'relations': relations_eclipse\n",
    "}\n",
    "\n",
    "datasets['openoffice'] = {\n",
    "    'reports': reports_train_openoffice,\n",
    "    'relations': relations_openoffice\n",
    "}\n",
    "\n",
    "datasets['firefox'] = {\n",
    "    'reports': reports_train_firefox,\n",
    "    'relations': relations_firefox\n",
    "}\n",
    "\n",
    "datasets['netbeans'] = {\n",
    "    'reports': reports_train_netbeans,\n",
    "    'relations': relations_netbeans\n",
    "}"
   ]
  },
  {
   "cell_type": "markdown",
   "metadata": {},
   "source": [
    "For each dataset generate the triplets and save them"
   ]
  },
  {
   "cell_type": "code",
   "execution_count": null,
   "metadata": {},
   "outputs": [],
   "source": [
    "for key, value in datasets.items():\n",
    "\n",
    "    # Generate triplets for the train dataset\n",
    "    triplets = generate_triplets_with_contex(value['reports'], value['relations'])\n",
    "    print(key, len(triplets))\n",
    "\n",
    "    # Save triplets into pickle file\n",
    "    triplets_file_path = f'data/splits/complete_triplets/complete_{key}_triplets.pkl'\n",
    "    with open(triplets_file_path, \"wb\") as f:\n",
    "        pickle.dump(triplets, f)\n",
    "\n",
    "    "
   ]
  }
 ],
 "metadata": {
  "kernelspec": {
   "display_name": "Python 3",
   "language": "python",
   "name": "python3"
  },
  "language_info": {
   "codemirror_mode": {
    "name": "ipython",
    "version": 3
   },
   "file_extension": ".py",
   "mimetype": "text/x-python",
   "name": "python",
   "nbconvert_exporter": "python",
   "pygments_lexer": "ipython3",
   "version": "3.10.7"
  }
 },
 "nbformat": 4,
 "nbformat_minor": 2
}
